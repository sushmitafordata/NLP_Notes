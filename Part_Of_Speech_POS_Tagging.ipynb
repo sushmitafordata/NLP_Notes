{
  "nbformat": 4,
  "nbformat_minor": 0,
  "metadata": {
    "colab": {
      "provenance": []
    },
    "kernelspec": {
      "name": "python3",
      "display_name": "Python 3"
    },
    "language_info": {
      "name": "python"
    }
  },
  "cells": [
    {
      "cell_type": "code",
      "execution_count": null,
      "metadata": {
        "id": "UTYIl8Ot3O7c"
      },
      "outputs": [],
      "source": [
        "import spacy"
      ]
    },
    {
      "cell_type": "code",
      "source": [
        "nlp=spacy.load(\"en_core_web_sm\")\n"
      ],
      "metadata": {
        "id": "qf2LE6BS3yRT"
      },
      "execution_count": null,
      "outputs": []
    },
    {
      "cell_type": "code",
      "source": [
        "doc = nlp(\"Elon flew to mars yesterday. He carried biryani masala with him\")\n",
        "\n",
        "for token in doc:\n",
        "  print(token,\"|\",token.lemma_,\"|\",token.pos_)"
      ],
      "metadata": {
        "colab": {
          "base_uri": "https://localhost:8080/"
        },
        "id": "5qDla-Uk5YSL",
        "outputId": "ff8119de-6be0-4a82-9666-18b853c3fd01"
      },
      "execution_count": null,
      "outputs": [
        {
          "output_type": "stream",
          "name": "stdout",
          "text": [
            "Elon | Elon | PROPN\n",
            "flew | fly | VERB\n",
            "to | to | ADP\n",
            "mars | mar | NOUN\n",
            "yesterday | yesterday | NOUN\n",
            ". | . | PUNCT\n",
            "He | he | PRON\n",
            "carried | carry | VERB\n",
            "biryani | biryani | ADJ\n",
            "masala | masala | NOUN\n",
            "with | with | ADP\n",
            "him | he | PRON\n"
          ]
        }
      ]
    },
    {
      "cell_type": "code",
      "source": [
        "nlp.pipe_names"
      ],
      "metadata": {
        "colab": {
          "base_uri": "https://localhost:8080/"
        },
        "id": "PO1UjOI43-P5",
        "outputId": "60c55845-0ce8-4330-e97f-22bd3cff9280"
      },
      "execution_count": null,
      "outputs": [
        {
          "output_type": "execute_result",
          "data": {
            "text/plain": [
              "['tok2vec', 'tagger', 'parser', 'attribute_ruler', 'lemmatizer', 'ner']"
            ]
          },
          "metadata": {},
          "execution_count": 29
        }
      ]
    },
    {
      "cell_type": "code",
      "source": [
        "doc = nlp(\"Wow! Dr. Strange made 265 million $ on the very first day\")\n",
        "\n",
        "for token in doc:\n",
        "    print(token,\" | \", token.pos_, \" | \", spacy.explain(token.pos_))"
      ],
      "metadata": {
        "colab": {
          "base_uri": "https://localhost:8080/"
        },
        "id": "vm1p1Mkj49Cy",
        "outputId": "7694ac0b-0304-4f5a-8a78-01f5c16a4643"
      },
      "execution_count": null,
      "outputs": [
        {
          "output_type": "stream",
          "name": "stdout",
          "text": [
            "Wow  |  INTJ  |  interjection\n",
            "!  |  PUNCT  |  punctuation\n",
            "Dr.  |  PROPN  |  proper noun\n",
            "Strange  |  PROPN  |  proper noun\n",
            "made  |  VERB  |  verb\n",
            "265  |  NUM  |  numeral\n",
            "million  |  NUM  |  numeral\n",
            "$  |  NUM  |  numeral\n",
            "on  |  ADP  |  adposition\n",
            "the  |  DET  |  determiner\n",
            "very  |  ADV  |  adverb\n",
            "first  |  ADJ  |  adjective\n",
            "day  |  NOUN  |  noun\n"
          ]
        }
      ]
    },
    {
      "cell_type": "markdown",
      "source": [
        "#Tags"
      ],
      "metadata": {
        "id": "bzAIUYlI5j5b"
      }
    },
    {
      "cell_type": "code",
      "source": [
        "doc = nlp(\"Wow! Dr. Strange made , 265 million $ on the very first day\")\n",
        "\n",
        "for token in doc:\n",
        "  print(token, \" | \" , token.pos_ , \" | \" , spacy.explain(token.pos_) ,\" | \" , token.tag_ ,\" | \" , spacy.explain(token.tag_))\n"
      ],
      "metadata": {
        "colab": {
          "base_uri": "https://localhost:8080/"
        },
        "id": "22mD-2r_5hx5",
        "outputId": "ae9156a9-fa1b-4905-8259-ee40e6c4e068"
      },
      "execution_count": null,
      "outputs": [
        {
          "output_type": "stream",
          "name": "stdout",
          "text": [
            "Wow  |  INTJ  |  interjection  |  UH  |  interjection\n",
            "!  |  PUNCT  |  punctuation  |  .  |  punctuation mark, sentence closer\n",
            "Dr.  |  PROPN  |  proper noun  |  NNP  |  noun, proper singular\n",
            "Strange  |  PROPN  |  proper noun  |  NNP  |  noun, proper singular\n",
            "made  |  VERB  |  verb  |  VBD  |  verb, past tense\n",
            ",  |  PUNCT  |  punctuation  |  ,  |  punctuation mark, comma\n",
            "265  |  NUM  |  numeral  |  CD  |  cardinal number\n",
            "million  |  NUM  |  numeral  |  CD  |  cardinal number\n",
            "$  |  NUM  |  numeral  |  CD  |  cardinal number\n",
            "on  |  ADP  |  adposition  |  IN  |  conjunction, subordinating or preposition\n",
            "the  |  DET  |  determiner  |  DT  |  determiner\n",
            "very  |  ADV  |  adverb  |  RB  |  adverb\n",
            "first  |  ADJ  |  adjective  |  JJ  |  adjective (English), other noun-modifier (Chinese)\n",
            "day  |  NOUN  |  noun  |  NN  |  noun, singular or mass\n"
          ]
        }
      ]
    },
    {
      "cell_type": "markdown",
      "source": [
        "#In below sentences Spacy figures out the past vs present tense for quit"
      ],
      "metadata": {
        "id": "C26DooDb6Y-S"
      }
    },
    {
      "cell_type": "code",
      "source": [
        "doc=nlp(\"he quits the job\")\n",
        "doc[1]"
      ],
      "metadata": {
        "colab": {
          "base_uri": "https://localhost:8080/"
        },
        "id": "5aBV9DT_5w15",
        "outputId": "6b0d03b1-6a90-4f66-9be3-3ae434c64eff"
      },
      "execution_count": null,
      "outputs": [
        {
          "output_type": "execute_result",
          "data": {
            "text/plain": [
              "quits"
            ]
          },
          "metadata": {},
          "execution_count": 32
        }
      ]
    },
    {
      "cell_type": "code",
      "source": [
        "print(doc[1].text ,\"|\",doc[1].tag_ ,\"|\" , spacy.explain(doc[1].tag_))"
      ],
      "metadata": {
        "colab": {
          "base_uri": "https://localhost:8080/"
        },
        "id": "VPs7_L4y6fbO",
        "outputId": "ef712e5b-6d81-4979-9e81-a94e29b51831"
      },
      "execution_count": null,
      "outputs": [
        {
          "output_type": "stream",
          "name": "stdout",
          "text": [
            "quits | VBZ | verb, 3rd person singular present\n"
          ]
        }
      ]
    },
    {
      "cell_type": "code",
      "source": [
        "doc=nlp(\"he quit the job\")\n",
        "doc[1]"
      ],
      "metadata": {
        "colab": {
          "base_uri": "https://localhost:8080/"
        },
        "id": "Ivkw83jy6nRZ",
        "outputId": "b2e42c31-b6c1-4cbf-f1a9-765cd5d65428"
      },
      "execution_count": null,
      "outputs": [
        {
          "output_type": "execute_result",
          "data": {
            "text/plain": [
              "quit"
            ]
          },
          "metadata": {},
          "execution_count": 34
        }
      ]
    },
    {
      "cell_type": "code",
      "source": [
        "print(doc[1].text ,\"|\",doc[1].tag_ ,\"|\" , spacy.explain(doc[1].tag_))"
      ],
      "metadata": {
        "colab": {
          "base_uri": "https://localhost:8080/"
        },
        "id": "8mroomfl665Y",
        "outputId": "d192f9d4-f99a-4364-f8fc-cde2c44f59b7"
      },
      "execution_count": null,
      "outputs": [
        {
          "output_type": "stream",
          "name": "stdout",
          "text": [
            "quit | VBD | verb, past tense\n"
          ]
        }
      ]
    },
    {
      "cell_type": "markdown",
      "source": [
        "#Removing all SPACE, PUNCT and X token from text"
      ],
      "metadata": {
        "id": "CymkKQGQ7KUb"
      }
    },
    {
      "cell_type": "code",
      "source": [
        "earnings_text=\"\"\"Microsoft Corp. today announced the following results for the quarter ended December 31, 2021, as compared to the corresponding period of last fiscal year:\n",
        "\n",
        "·         Revenue was $51.7 billion and increased 20%\n",
        "·         Operating income was $22.2 billion and increased 24%\n",
        "·         Net income was $18.8 billion and increased 21%\n",
        "·         Diluted earnings per share was $2.48 and increased 22%\n",
        "“Digital technology is the most malleable resource at the world’s disposal to overcome constraints and reimagine everyday work and life,” said Satya Nadella, chairman and chief executive officer of Microsoft. “As tech as a percentage of global GDP continues to increase, we are innovating and investing across diverse and growing markets, with a common underlying technology stack and an operating model that reinforces a common strategy, culture, and sense of purpose.”\n",
        "“Solid commercial execution, represented by strong bookings growth driven by long-term Azure commitments, increased Microsoft Cloud revenue to $22.1 billion, up 32% year over year” said Amy Hood, executive vice president and chief financial officer of Microsoft.\"\"\"\n",
        "\n",
        "doc = nlp(earnings_text)\n",
        "\n",
        "\n",
        "\n",
        "for token in doc:\n",
        "    if token.pos_ not in [\"SPACE\", \"PUNCT\", \"X\"]:\n"
      ],
      "metadata": {
        "id": "Fw1aCMG8688R"
      },
      "execution_count": null,
      "outputs": []
    },
    {
      "cell_type": "code",
      "source": [
        "#Printing the pos tags of the text\n",
        "\n",
        "doc=nlp(earnings_text)\n",
        "for token in doc:\n",
        "\n",
        "    print(token, \" | \" ,token.pos_ ,\"|\" , spacy.explain(token.pos_))"
      ],
      "metadata": {
        "colab": {
          "base_uri": "https://localhost:8080/"
        },
        "id": "FQ376uCu7XWc",
        "outputId": "c061b86c-7d63-463b-fc68-6c801bf9b082"
      },
      "execution_count": null,
      "outputs": [
        {
          "output_type": "stream",
          "name": "stdout",
          "text": [
            "Microsoft  |  PROPN | proper noun\n",
            "Corp.  |  PROPN | proper noun\n",
            "today  |  NOUN | noun\n",
            "announced  |  VERB | verb\n",
            "the  |  DET | determiner\n",
            "following  |  VERB | verb\n",
            "results  |  NOUN | noun\n",
            "for  |  ADP | adposition\n",
            "the  |  DET | determiner\n",
            "quarter  |  NOUN | noun\n",
            "ended  |  VERB | verb\n",
            "December  |  PROPN | proper noun\n",
            "31  |  NUM | numeral\n",
            ",  |  PUNCT | punctuation\n",
            "2021  |  NUM | numeral\n",
            ",  |  PUNCT | punctuation\n",
            "as  |  SCONJ | subordinating conjunction\n",
            "compared  |  VERB | verb\n",
            "to  |  ADP | adposition\n",
            "the  |  DET | determiner\n",
            "corresponding  |  ADJ | adjective\n",
            "period  |  NOUN | noun\n",
            "of  |  ADP | adposition\n",
            "last  |  ADJ | adjective\n",
            "fiscal  |  ADJ | adjective\n",
            "year  |  NOUN | noun\n",
            ":  |  PUNCT | punctuation\n",
            "\n",
            "\n",
            "  |  SPACE | space\n",
            "·  |  PUNCT | punctuation\n",
            "          |  SPACE | space\n",
            "Revenue  |  NOUN | noun\n",
            "was  |  AUX | auxiliary\n",
            "$  |  SYM | symbol\n",
            "51.7  |  NUM | numeral\n",
            "billion  |  NUM | numeral\n",
            "and  |  CCONJ | coordinating conjunction\n",
            "increased  |  VERB | verb\n",
            "20  |  NUM | numeral\n",
            "%  |  NOUN | noun\n",
            "\n",
            "  |  SPACE | space\n",
            "·  |  PUNCT | punctuation\n",
            "          |  SPACE | space\n",
            "Operating  |  VERB | verb\n",
            "income  |  NOUN | noun\n",
            "was  |  AUX | auxiliary\n",
            "$  |  SYM | symbol\n",
            "22.2  |  NUM | numeral\n",
            "billion  |  NUM | numeral\n",
            "and  |  CCONJ | coordinating conjunction\n",
            "increased  |  VERB | verb\n",
            "24  |  NUM | numeral\n",
            "%  |  NOUN | noun\n",
            "\n",
            "  |  SPACE | space\n",
            "·  |  PUNCT | punctuation\n",
            "          |  SPACE | space\n",
            "Net  |  ADJ | adjective\n",
            "income  |  NOUN | noun\n",
            "was  |  AUX | auxiliary\n",
            "$  |  SYM | symbol\n",
            "18.8  |  NUM | numeral\n",
            "billion  |  NUM | numeral\n",
            "and  |  CCONJ | coordinating conjunction\n",
            "increased  |  VERB | verb\n",
            "21  |  NUM | numeral\n",
            "%  |  NOUN | noun\n",
            "\n",
            "  |  SPACE | space\n",
            "·  |  PUNCT | punctuation\n",
            "          |  SPACE | space\n",
            "Diluted  |  VERB | verb\n",
            "earnings  |  NOUN | noun\n",
            "per  |  ADP | adposition\n",
            "share  |  NOUN | noun\n",
            "was  |  AUX | auxiliary\n",
            "$  |  SYM | symbol\n",
            "2.48  |  NUM | numeral\n",
            "and  |  CCONJ | coordinating conjunction\n",
            "increased  |  VERB | verb\n",
            "22  |  NUM | numeral\n",
            "%  |  NOUN | noun\n",
            "\n",
            "  |  SPACE | space\n",
            "“  |  PUNCT | punctuation\n",
            "Digital  |  PROPN | proper noun\n",
            "technology  |  NOUN | noun\n",
            "is  |  AUX | auxiliary\n",
            "the  |  DET | determiner\n",
            "most  |  ADV | adverb\n",
            "malleable  |  ADJ | adjective\n",
            "resource  |  NOUN | noun\n",
            "at  |  ADP | adposition\n",
            "the  |  DET | determiner\n",
            "world  |  NOUN | noun\n",
            "’s  |  PART | particle\n",
            "disposal  |  NOUN | noun\n",
            "to  |  PART | particle\n",
            "overcome  |  VERB | verb\n",
            "constraints  |  NOUN | noun\n",
            "and  |  CCONJ | coordinating conjunction\n",
            "reimagine  |  VERB | verb\n",
            "everyday  |  ADJ | adjective\n",
            "work  |  NOUN | noun\n",
            "and  |  CCONJ | coordinating conjunction\n",
            "life  |  NOUN | noun\n",
            ",  |  PUNCT | punctuation\n",
            "”  |  PUNCT | punctuation\n",
            "said  |  VERB | verb\n",
            "Satya  |  PROPN | proper noun\n",
            "Nadella  |  PROPN | proper noun\n",
            ",  |  PUNCT | punctuation\n",
            "chairman  |  NOUN | noun\n",
            "and  |  CCONJ | coordinating conjunction\n",
            "chief  |  ADJ | adjective\n",
            "executive  |  ADJ | adjective\n",
            "officer  |  NOUN | noun\n",
            "of  |  ADP | adposition\n",
            "Microsoft  |  PROPN | proper noun\n",
            ".  |  PUNCT | punctuation\n",
            "“  |  PUNCT | punctuation\n",
            "As  |  ADV | adverb\n",
            "tech  |  NOUN | noun\n",
            "as  |  ADP | adposition\n",
            "a  |  DET | determiner\n",
            "percentage  |  NOUN | noun\n",
            "of  |  ADP | adposition\n",
            "global  |  ADJ | adjective\n",
            "GDP  |  PROPN | proper noun\n",
            "continues  |  VERB | verb\n",
            "to  |  PART | particle\n",
            "increase  |  VERB | verb\n",
            ",  |  PUNCT | punctuation\n",
            "we  |  PRON | pronoun\n",
            "are  |  AUX | auxiliary\n",
            "innovating  |  VERB | verb\n",
            "and  |  CCONJ | coordinating conjunction\n",
            "investing  |  VERB | verb\n",
            "across  |  ADP | adposition\n",
            "diverse  |  ADJ | adjective\n",
            "and  |  CCONJ | coordinating conjunction\n",
            "growing  |  VERB | verb\n",
            "markets  |  NOUN | noun\n",
            ",  |  PUNCT | punctuation\n",
            "with  |  ADP | adposition\n",
            "a  |  DET | determiner\n",
            "common  |  ADJ | adjective\n",
            "underlying  |  VERB | verb\n",
            "technology  |  NOUN | noun\n",
            "stack  |  NOUN | noun\n",
            "and  |  CCONJ | coordinating conjunction\n",
            "an  |  DET | determiner\n",
            "operating  |  NOUN | noun\n",
            "model  |  NOUN | noun\n",
            "that  |  PRON | pronoun\n",
            "reinforces  |  VERB | verb\n",
            "a  |  DET | determiner\n",
            "common  |  ADJ | adjective\n",
            "strategy  |  NOUN | noun\n",
            ",  |  PUNCT | punctuation\n",
            "culture  |  NOUN | noun\n",
            ",  |  PUNCT | punctuation\n",
            "and  |  CCONJ | coordinating conjunction\n",
            "sense  |  NOUN | noun\n",
            "of  |  ADP | adposition\n",
            "purpose  |  NOUN | noun\n",
            ".  |  PUNCT | punctuation\n",
            "”  |  PUNCT | punctuation\n",
            "\n",
            "  |  SPACE | space\n",
            "“  |  PUNCT | punctuation\n",
            "Solid  |  ADJ | adjective\n",
            "commercial  |  ADJ | adjective\n",
            "execution  |  NOUN | noun\n",
            ",  |  PUNCT | punctuation\n",
            "represented  |  VERB | verb\n",
            "by  |  ADP | adposition\n",
            "strong  |  ADJ | adjective\n",
            "bookings  |  NOUN | noun\n",
            "growth  |  NOUN | noun\n",
            "driven  |  VERB | verb\n",
            "by  |  ADP | adposition\n",
            "long  |  ADJ | adjective\n",
            "-  |  PUNCT | punctuation\n",
            "term  |  NOUN | noun\n",
            "Azure  |  ADJ | adjective\n",
            "commitments  |  NOUN | noun\n",
            ",  |  PUNCT | punctuation\n",
            "increased  |  VERB | verb\n",
            "Microsoft  |  PROPN | proper noun\n",
            "Cloud  |  PROPN | proper noun\n",
            "revenue  |  NOUN | noun\n",
            "to  |  ADP | adposition\n",
            "$  |  SYM | symbol\n",
            "22.1  |  NUM | numeral\n",
            "billion  |  NUM | numeral\n",
            ",  |  PUNCT | punctuation\n",
            "up  |  ADV | adverb\n",
            "32  |  NUM | numeral\n",
            "%  |  NOUN | noun\n",
            "year  |  NOUN | noun\n",
            "over  |  ADP | adposition\n",
            "year  |  NOUN | noun\n",
            "”  |  PUNCT | punctuation\n",
            "said  |  VERB | verb\n",
            "Amy  |  PROPN | proper noun\n",
            "Hood  |  PROPN | proper noun\n",
            ",  |  PUNCT | punctuation\n",
            "executive  |  ADJ | adjective\n",
            "vice  |  NOUN | noun\n",
            "president  |  NOUN | noun\n",
            "and  |  CCONJ | coordinating conjunction\n",
            "chief  |  ADJ | adjective\n",
            "financial  |  ADJ | adjective\n",
            "officer  |  NOUN | noun\n",
            "of  |  ADP | adposition\n",
            "Microsoft  |  PROPN | proper noun\n",
            ".  |  PUNCT | punctuation\n"
          ]
        }
      ]
    },
    {
      "cell_type": "code",
      "source": [
        "#Printing if they belong to a particular category\n",
        "\n",
        "doc=nlp(earnings_text)\n",
        "for token in doc:\n",
        "    if(token.pos_ in [\"SPACE\",\"X\",\"PUNCT\"]):\n",
        "      print(token, \" | \" ,token.pos_ ,\"|\" , spacy.explain(token.pos_))\n"
      ],
      "metadata": {
        "colab": {
          "base_uri": "https://localhost:8080/"
        },
        "id": "4oeCyy7Y_hRJ",
        "outputId": "93746ad9-b73d-4875-afb2-12bd8734d8b0"
      },
      "execution_count": null,
      "outputs": [
        {
          "output_type": "stream",
          "name": "stdout",
          "text": [
            ",  |  PUNCT | punctuation\n",
            ",  |  PUNCT | punctuation\n",
            ":  |  PUNCT | punctuation\n",
            "\n",
            "\n",
            "  |  SPACE | space\n",
            "·  |  PUNCT | punctuation\n",
            "          |  SPACE | space\n",
            "\n",
            "  |  SPACE | space\n",
            "·  |  PUNCT | punctuation\n",
            "          |  SPACE | space\n",
            "\n",
            "  |  SPACE | space\n",
            "·  |  PUNCT | punctuation\n",
            "          |  SPACE | space\n",
            "\n",
            "  |  SPACE | space\n",
            "·  |  PUNCT | punctuation\n",
            "          |  SPACE | space\n",
            "\n",
            "  |  SPACE | space\n",
            "“  |  PUNCT | punctuation\n",
            ",  |  PUNCT | punctuation\n",
            "”  |  PUNCT | punctuation\n",
            ",  |  PUNCT | punctuation\n",
            ".  |  PUNCT | punctuation\n",
            "“  |  PUNCT | punctuation\n",
            ",  |  PUNCT | punctuation\n",
            ",  |  PUNCT | punctuation\n",
            ",  |  PUNCT | punctuation\n",
            ",  |  PUNCT | punctuation\n",
            ".  |  PUNCT | punctuation\n",
            "”  |  PUNCT | punctuation\n",
            "\n",
            "  |  SPACE | space\n",
            "“  |  PUNCT | punctuation\n",
            ",  |  PUNCT | punctuation\n",
            "-  |  PUNCT | punctuation\n",
            ",  |  PUNCT | punctuation\n",
            ",  |  PUNCT | punctuation\n",
            "”  |  PUNCT | punctuation\n",
            ",  |  PUNCT | punctuation\n",
            ".  |  PUNCT | punctuation\n"
          ]
        }
      ]
    },
    {
      "cell_type": "code",
      "source": [
        "#Filtering out the tokens\n",
        "\n",
        "filtered_tokens= []\n",
        "doc=nlp(earnings_text)\n",
        "for token in doc:\n",
        "    if(token.pos_ in [\"SPACE\",\"X\",\"PUNCT\"]):\n",
        "      filtered_tokens.append(token)\n",
        "\n"
      ],
      "metadata": {
        "id": "q3uK9XSzAivy"
      },
      "execution_count": null,
      "outputs": []
    },
    {
      "cell_type": "code",
      "source": [
        "filtered_tokens[:20]"
      ],
      "metadata": {
        "colab": {
          "base_uri": "https://localhost:8080/"
        },
        "id": "0SHoZ4VIA8aV",
        "outputId": "8aade0fb-08e9-4ed2-e0b1-5ed43f0fa9a5"
      },
      "execution_count": null,
      "outputs": [
        {
          "output_type": "execute_result",
          "data": {
            "text/plain": [
              "[,,\n",
              " ,,\n",
              " :,\n",
              " \n",
              " ,\n",
              " ·,\n",
              "         ,\n",
              " ,\n",
              " ·,\n",
              "         ,\n",
              " ,\n",
              " ·,\n",
              "         ,\n",
              " ,\n",
              " ·,\n",
              "         ,\n",
              " ,\n",
              " “,\n",
              " ,,\n",
              " ”,\n",
              " ,]"
            ]
          },
          "metadata": {},
          "execution_count": 50
        }
      ]
    },
    {
      "cell_type": "code",
      "source": [
        "count=doc.count_by(spacy.attrs.POS)\n",
        "count"
      ],
      "metadata": {
        "colab": {
          "base_uri": "https://localhost:8080/"
        },
        "id": "5CP1bcMNBAGa",
        "outputId": "3ed246b1-ae00-4d8b-b160-34f21df41693"
      },
      "execution_count": null,
      "outputs": [
        {
          "output_type": "execute_result",
          "data": {
            "text/plain": [
              "{96: 13,\n",
              " 92: 46,\n",
              " 100: 24,\n",
              " 90: 9,\n",
              " 85: 16,\n",
              " 93: 16,\n",
              " 97: 27,\n",
              " 98: 1,\n",
              " 84: 20,\n",
              " 103: 10,\n",
              " 87: 6,\n",
              " 99: 5,\n",
              " 89: 12,\n",
              " 86: 3,\n",
              " 94: 3,\n",
              " 95: 2}"
            ]
          },
          "metadata": {},
          "execution_count": 51
        }
      ]
    },
    {
      "cell_type": "code",
      "source": [
        "doc.vocab[96].text"
      ],
      "metadata": {
        "colab": {
          "base_uri": "https://localhost:8080/",
          "height": 35
        },
        "id": "DhTAN8YjB-NG",
        "outputId": "3de87a80-04c7-4f06-abe2-8c465b9c0b86"
      },
      "execution_count": null,
      "outputs": [
        {
          "output_type": "execute_result",
          "data": {
            "text/plain": [
              "'PROPN'"
            ],
            "application/vnd.google.colaboratory.intrinsic+json": {
              "type": "string"
            }
          },
          "metadata": {},
          "execution_count": 52
        }
      ]
    },
    {
      "cell_type": "markdown",
      "source": [
        "- From the above two cels we came to an conclusion that we have 13 proper noun"
      ],
      "metadata": {
        "id": "7D6_EzKYCFl7"
      }
    },
    {
      "cell_type": "code",
      "source": [
        "for k ,v in count.items():\n",
        "  print(doc.vocab[k].text,\"|\",v)"
      ],
      "metadata": {
        "colab": {
          "base_uri": "https://localhost:8080/"
        },
        "id": "gsOhu887CD_f",
        "outputId": "9745271e-77da-4a5c-aad4-13a4bb76564e"
      },
      "execution_count": null,
      "outputs": [
        {
          "output_type": "stream",
          "name": "stdout",
          "text": [
            "PROPN | 13\n",
            "NOUN | 46\n",
            "VERB | 24\n",
            "DET | 9\n",
            "ADP | 16\n",
            "NUM | 16\n",
            "PUNCT | 27\n",
            "SCONJ | 1\n",
            "ADJ | 20\n",
            "SPACE | 10\n",
            "AUX | 6\n",
            "SYM | 5\n",
            "CCONJ | 12\n",
            "ADV | 3\n",
            "PART | 3\n",
            "PRON | 2\n"
          ]
        }
      ]
    },
    {
      "cell_type": "markdown",
      "source": [
        "# Exercise for Spacy POS tutorial,"
      ],
      "metadata": {
        "id": "cLydkBisIuHK"
      }
    },
    {
      "cell_type": "markdown",
      "source": [
        "You are parsing a news story from cnbc.com. News story is stores in https://github.com/codebasics/nlp-tutorials/blob/main/7_pos/news_story.txt which is available in this same folder on github. You need to,\n",
        "Extract all NOUN tokens from this story. You will have to read the file in python first to collect all the text and then extract NOUNs in a python list\n",
        "Extract all numbers (NUM POS type) in a python list\n",
        "Print a count of all POS tags in this story"
      ],
      "metadata": {
        "id": "mw3UoOvxIxnT"
      }
    },
    {
      "cell_type": "code",
      "source": [
        "import spacy\n",
        "nlp = spacy.load(\"en_core_web_sm\")"
      ],
      "metadata": {
        "id": "hHH28szSCi0N"
      },
      "execution_count": null,
      "outputs": []
    },
    {
      "cell_type": "code",
      "source": [],
      "metadata": {
        "id": "yX5fPpsWI-hU"
      },
      "execution_count": null,
      "outputs": []
    },
    {
      "cell_type": "markdown",
      "source": [
        "#Read a new story"
      ],
      "metadata": {
        "id": "1tIns3kiI_oB"
      }
    },
    {
      "cell_type": "code",
      "source": [
        "text=\"\"\"Inflation rose again in April, continuing a climb that has pushed consumers to the\n",
        " brink and is threatening the economic expansion, the Bureau of Labor Statistics reported\n",
        " Wednesday.\\n\\nThe consumer price index, a broad-based measure of prices for goods and\n",
        " services, increased 8.3% from a year ago, higher than the Dow Jones estimate for an 8.1%\n",
        " gain. That represented a slight ease from Marchâ€™s peak but was still close to the highest\n",
        "level since the summer of 1982.\\n\\nRemoving volatile food and ene\"\"\""
      ],
      "metadata": {
        "id": "QEI9cMB-JDXz"
      },
      "execution_count": null,
      "outputs": []
    },
    {
      "cell_type": "markdown",
      "source": [
        "#Extract NOUN and NUM tokens"
      ],
      "metadata": {
        "id": "0O9trSaqJat_"
      }
    },
    {
      "cell_type": "code",
      "source": [
        "doc=nlp(text)\n",
        "numeral_tokens=[]\n",
        "noun_tokens=[]\n",
        "\n",
        "for token in doc:\n",
        "  if token.pos_==\"NOUN\":\n",
        "    noun_tokens.append(token)\n",
        "  elif token.pos_ == \"NUM\":\n",
        "    numeral_tokens.append(token)"
      ],
      "metadata": {
        "id": "kDyFjhy0JRIj"
      },
      "execution_count": null,
      "outputs": []
    },
    {
      "cell_type": "code",
      "source": [
        "numeral_tokens[:10]"
      ],
      "metadata": {
        "colab": {
          "base_uri": "https://localhost:8080/"
        },
        "id": "k7qa2lyLJ0-V",
        "outputId": "fb92400f-5644-4062-8412-7949cd3ac6bd"
      },
      "execution_count": null,
      "outputs": [
        {
          "output_type": "execute_result",
          "data": {
            "text/plain": [
              "[8.3, 8.1, 1982]"
            ]
          },
          "metadata": {},
          "execution_count": 61
        }
      ]
    },
    {
      "cell_type": "code",
      "source": [
        "noun_tokens[:10]"
      ],
      "metadata": {
        "colab": {
          "base_uri": "https://localhost:8080/"
        },
        "id": "TEMsEl6XJ3sW",
        "outputId": "c538814a-aeed-45e5-a31d-c2c427703fc3"
      },
      "execution_count": null,
      "outputs": [
        {
          "output_type": "execute_result",
          "data": {
            "text/plain": [
              "['NOUN',\n",
              " 'NOUN',\n",
              " 'NOUN',\n",
              " 'NOUN',\n",
              " 'NOUN',\n",
              " 'NOUN',\n",
              " 'NOUN',\n",
              " 'NOUN',\n",
              " 'NOUN',\n",
              " 'NOUN']"
            ]
          },
          "metadata": {},
          "execution_count": 62
        }
      ]
    },
    {
      "cell_type": "markdown",
      "source": [
        "# Print a count of all POS tags"
      ],
      "metadata": {
        "id": "OfxZvruOQaay"
      }
    },
    {
      "cell_type": "code",
      "source": [
        "count = doc.count_by(spacy.attrs.POS)\n",
        "count"
      ],
      "metadata": {
        "colab": {
          "base_uri": "https://localhost:8080/"
        },
        "id": "a-LU22qVJ-h4",
        "outputId": "9a2ce8f0-2823-44c8-e302-cb5e6580ac68"
      },
      "execution_count": null,
      "outputs": [
        {
          "output_type": "execute_result",
          "data": {
            "text/plain": [
              "{92: 25,\n",
              " 100: 9,\n",
              " 86: 4,\n",
              " 85: 11,\n",
              " 96: 7,\n",
              " 97: 9,\n",
              " 90: 12,\n",
              " 95: 2,\n",
              " 87: 3,\n",
              " 103: 7,\n",
              " 89: 4,\n",
              " 84: 6,\n",
              " 93: 3,\n",
              " 94: 1,\n",
              " 98: 1}"
            ]
          },
          "metadata": {},
          "execution_count": 64
        }
      ]
    },
    {
      "cell_type": "code",
      "source": [
        "for k,v in count.items():\n",
        "    print(doc.vocab[k].text, \"|\",v)"
      ],
      "metadata": {
        "colab": {
          "base_uri": "https://localhost:8080/"
        },
        "id": "Mr4J-AbGQdU9",
        "outputId": "888fa24a-6d90-42ed-d6f9-75a6c93c1b95"
      },
      "execution_count": null,
      "outputs": [
        {
          "output_type": "stream",
          "name": "stdout",
          "text": [
            "NOUN | 25\n",
            "VERB | 9\n",
            "ADV | 4\n",
            "ADP | 11\n",
            "PROPN | 7\n",
            "PUNCT | 9\n",
            "DET | 12\n",
            "PRON | 2\n",
            "AUX | 3\n",
            "SPACE | 7\n",
            "CCONJ | 4\n",
            "ADJ | 6\n",
            "NUM | 3\n",
            "PART | 1\n",
            "SCONJ | 1\n"
          ]
        }
      ]
    },
    {
      "cell_type": "code",
      "source": [],
      "metadata": {
        "id": "WUaiDAykQfM1"
      },
      "execution_count": null,
      "outputs": []
    }
  ]
}