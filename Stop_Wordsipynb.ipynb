{
  "nbformat": 4,
  "nbformat_minor": 0,
  "metadata": {
    "colab": {
      "provenance": []
    },
    "kernelspec": {
      "name": "python3",
      "display_name": "Python 3"
    },
    "language_info": {
      "name": "python"
    }
  },
  "cells": [
    {
      "cell_type": "markdown",
      "source": [
        "#STOPWORDS"
      ],
      "metadata": {
        "id": "6j_3Ii73C2VI"
      }
    },
    {
      "cell_type": "markdown",
      "source": [
        "- Stop words are commonly used words that are often removed from texts during natural language processing (NLP) tasks such as information retrieval, text mining, and sentiment analysis.\n",
        "- These words are considered to have little or no significance in determining the meaning or sentiment of a sentence, and their removal can help improve processing efficiency and accuracy.\n",
        "\n",
        "- Examples of stop words include common words like \"a,\" \"an,\" \"the,\" \"in,\" \"is,\" \"and,\" \"of,\" \"on,\" and so on. These words are frequently used in the English language but do not carry much semantic value on their own."
      ],
      "metadata": {
        "id": "RROmRr93CQCV"
      }
    },
    {
      "cell_type": "markdown",
      "source": [
        "While stop words are commonly removed in many NLP tasks, there are certain scenarios where **it is not advisable to remove them**. Here are a few cases where retaining stop words can be beneficial:\n",
        "\n",
        "1. **Contextual Analysis:** In some cases, stop words can provide important contextual information. For example, in sentiment analysis, the sentiment of a sentence can heavily rely on the presence or absence of certain stop words. Removing stop words in such cases can lead to a loss of crucial context.\n",
        "\n",
        "2. **Language Generation:** If you are generating natural language text, removing stop words can alter the grammatical structure and coherence of the generated sentences. Stop words often play a role in sentence formation and can be necessary for generating grammatically correct and coherent output.\n",
        "\n",
        "3. **Named Entity Recognition:** Stop words may be part of named entities, such as person names or locations. Removing stop words in this case can result in the loss of important information and hinder the accuracy of named entity recognition systems.\n",
        "\n",
        "4. **Information Retrieval:** In certain search queries or information retrieval tasks, stop words can be meaningful and play a role in determining the intent of the user. Removing them may lead to imprecise results or misinterpretation of the query.\n",
        "\n",
        "5. **Linguistic Analysis:** In linguistic research or language studies, the analysis of stop words can provide insights into language patterns, usage frequencies, and syntactic structures. Retaining stop words in these cases allows for a more comprehensive analysis of the language.\n",
        "\n",
        "In general, it's crucial to consider the specific task, dataset, and context when deciding whether to remove stop words. Understanding the impact of removing stop words on the particular analysis you are conducting is important to ensure accurate and meaningful results."
      ],
      "metadata": {
        "id": "wenCzyx4CWbq"
      }
    },
    {
      "cell_type": "code",
      "execution_count": null,
      "metadata": {
        "colab": {
          "base_uri": "https://localhost:8080/"
        },
        "id": "BPzl6LOMBFcP",
        "outputId": "3e0d7166-7719-414a-9ec3-a2724150efc0"
      },
      "outputs": [
        {
          "output_type": "execute_result",
          "data": {
            "text/plain": [
              "326"
            ]
          },
          "metadata": {},
          "execution_count": 15
        }
      ],
      "source": [
        "import spacy\n",
        "from spacy.lang.en.stop_words import STOP_WORDS\n",
        "len(STOP_WORDS)"
      ]
    },
    {
      "cell_type": "code",
      "source": [
        "nlp=spacy.load(\"en_core_web_sm\")\n",
        "doc=nlp(\"We just opened our wings, the flying part is coming soon\")\n",
        "\n",
        "for token in doc:\n",
        "  if token.is_stop:\n",
        "    print(token)"
      ],
      "metadata": {
        "colab": {
          "base_uri": "https://localhost:8080/"
        },
        "id": "3l0INKTwDKmV",
        "outputId": "73119ee8-5d4a-407f-b252-46b5901e621d"
      },
      "execution_count": null,
      "outputs": [
        {
          "output_type": "stream",
          "name": "stdout",
          "text": [
            "We\n",
            "just\n",
            "our\n",
            "the\n",
            "part\n",
            "is\n"
          ]
        }
      ]
    },
    {
      "cell_type": "code",
      "source": [
        "#printing the non-stopwords using list comprehension\n",
        "\n",
        "def preprocess(text):\n",
        "  no_stop_words=[token.text for token in doc if not token.is_stop]\n",
        "  return no_stop_words"
      ],
      "metadata": {
        "id": "fN8CKgSNI8mo"
      },
      "execution_count": null,
      "outputs": []
    },
    {
      "cell_type": "code",
      "source": [
        "preprocess(\"We just opened our wings, the flying part is coming soon\")"
      ],
      "metadata": {
        "colab": {
          "base_uri": "https://localhost:8080/"
        },
        "id": "OTIYgmwDLVeO",
        "outputId": "20e7fe60-2b62-4fe6-83e1-99f8bf12e45b"
      },
      "execution_count": null,
      "outputs": [
        {
          "output_type": "execute_result",
          "data": {
            "text/plain": [
              "['opened', 'wings', ',', 'flying', 'coming', 'soon']"
            ]
          },
          "metadata": {},
          "execution_count": 18
        }
      ]
    },
    {
      "cell_type": "markdown",
      "source": [
        "- let's say we want to remove the punctuation as well.\n",
        "-Let's modify the above list comprehension to remove punctuation as well."
      ],
      "metadata": {
        "id": "aWcYtgFNLkRI"
      }
    },
    {
      "cell_type": "code",
      "source": [
        "def preprocess(text):\n",
        "  no_stop_words=[token.text for token in doc if not token.is_stop and not token.is_punct ]\n",
        "  return no_stop_words"
      ],
      "metadata": {
        "id": "4yolfHt1LghT"
      },
      "execution_count": null,
      "outputs": []
    },
    {
      "cell_type": "code",
      "source": [
        "preprocess(\"We just opened our wings, the flying part is coming soon\")"
      ],
      "metadata": {
        "colab": {
          "base_uri": "https://localhost:8080/"
        },
        "id": "QlzXk5jaMKUo",
        "outputId": "cb467bb3-0ecb-4598-c829-4ee948c10a83"
      },
      "execution_count": null,
      "outputs": [
        {
          "output_type": "execute_result",
          "data": {
            "text/plain": [
              "['opened', 'wings', 'flying', 'coming', 'soon']"
            ]
          },
          "metadata": {},
          "execution_count": 20
        }
      ]
    },
    {
      "cell_type": "code",
      "source": [
        "!pip install kaggle"
      ],
      "metadata": {
        "colab": {
          "base_uri": "https://localhost:8080/"
        },
        "id": "xRRtNFTiMO9O",
        "outputId": "7ab34dfa-b688-43db-a055-0dc7db17a553"
      },
      "execution_count": null,
      "outputs": [
        {
          "output_type": "stream",
          "name": "stdout",
          "text": [
            "Requirement already satisfied: kaggle in /usr/local/lib/python3.10/dist-packages (1.5.13)\n",
            "Requirement already satisfied: six>=1.10 in /usr/local/lib/python3.10/dist-packages (from kaggle) (1.16.0)\n",
            "Requirement already satisfied: certifi in /usr/local/lib/python3.10/dist-packages (from kaggle) (2023.5.7)\n",
            "Requirement already satisfied: python-dateutil in /usr/local/lib/python3.10/dist-packages (from kaggle) (2.8.2)\n",
            "Requirement already satisfied: requests in /usr/local/lib/python3.10/dist-packages (from kaggle) (2.27.1)\n",
            "Requirement already satisfied: tqdm in /usr/local/lib/python3.10/dist-packages (from kaggle) (4.65.0)\n",
            "Requirement already satisfied: python-slugify in /usr/local/lib/python3.10/dist-packages (from kaggle) (8.0.1)\n",
            "Requirement already satisfied: urllib3 in /usr/local/lib/python3.10/dist-packages (from kaggle) (1.26.16)\n",
            "Requirement already satisfied: text-unidecode>=1.3 in /usr/local/lib/python3.10/dist-packages (from python-slugify->kaggle) (1.3)\n",
            "Requirement already satisfied: charset-normalizer~=2.0.0 in /usr/local/lib/python3.10/dist-packages (from requests->kaggle) (2.0.12)\n",
            "Requirement already satisfied: idna<4,>=2.5 in /usr/local/lib/python3.10/dist-packages (from requests->kaggle) (3.4)\n"
          ]
        }
      ]
    },
    {
      "cell_type": "code",
      "source": [
        "!mkdir ~/.kaggle"
      ],
      "metadata": {
        "colab": {
          "base_uri": "https://localhost:8080/"
        },
        "id": "ivpTkzIyNpvd",
        "outputId": "d1b6901c-2916-4687-bbe8-38215dd7929b"
      },
      "execution_count": null,
      "outputs": [
        {
          "output_type": "stream",
          "name": "stdout",
          "text": [
            "mkdir: cannot create directory ‘/root/.kaggle’: File exists\n"
          ]
        }
      ]
    },
    {
      "cell_type": "code",
      "source": [
        "!cp kaggle.json ~/.kaggle"
      ],
      "metadata": {
        "id": "vWThUaiWNv18"
      },
      "execution_count": null,
      "outputs": []
    },
    {
      "cell_type": "code",
      "source": [
        "! chmod 600 ~/.kaggle/kaggle.json\n"
      ],
      "metadata": {
        "id": "E8eIDuZZrdKp"
      },
      "execution_count": null,
      "outputs": []
    },
    {
      "cell_type": "code",
      "source": [
        "!kaggle datasets download -d jbencina/department-of-justice-20092018-press-releases"
      ],
      "metadata": {
        "colab": {
          "base_uri": "https://localhost:8080/"
        },
        "id": "7SLnHmXoN4GH",
        "outputId": "78c14e4a-23f4-4004-e4a1-7283fcd6f504"
      },
      "execution_count": null,
      "outputs": [
        {
          "output_type": "stream",
          "name": "stdout",
          "text": [
            "department-of-justice-20092018-press-releases.zip: Skipping, found more recently modified local copy (use --force to force download)\n"
          ]
        }
      ]
    },
    {
      "cell_type": "code",
      "source": [
        "!ls /content/department-of-justice-20092018-press-releases.zip"
      ],
      "metadata": {
        "colab": {
          "base_uri": "https://localhost:8080/"
        },
        "id": "IfHLGHR0rgE2",
        "outputId": "85f2f26e-283d-4b6b-a432-1324e2a1db14"
      },
      "execution_count": null,
      "outputs": [
        {
          "output_type": "stream",
          "name": "stdout",
          "text": [
            "/content/department-of-justice-20092018-press-releases.zip\n"
          ]
        }
      ]
    },
    {
      "cell_type": "code",
      "source": [
        "!unzip /content/department-of-justice-20092018-press-releases.zip"
      ],
      "metadata": {
        "colab": {
          "base_uri": "https://localhost:8080/"
        },
        "id": "bP3FcuS3r0cb",
        "outputId": "4292b14a-d703-4b2f-ad90-ebb45b10721d"
      },
      "execution_count": null,
      "outputs": [
        {
          "output_type": "stream",
          "name": "stdout",
          "text": [
            "Archive:  /content/department-of-justice-20092018-press-releases.zip\n",
            "  inflating: combined.json           \n"
          ]
        }
      ]
    },
    {
      "cell_type": "code",
      "source": [
        "import pandas as pd\n",
        "df=pd.read_json(\"combined.json\",lines=True) #lines True means one line per json object\n",
        "df.shape"
      ],
      "metadata": {
        "colab": {
          "base_uri": "https://localhost:8080/",
          "height": 346
        },
        "id": "1XuyTBCfr3U_",
        "outputId": "a2a136de-40ad-4bfc-c33b-7f43aaf55425"
      },
      "execution_count": null,
      "outputs": [
        {
          "output_type": "error",
          "ename": "FileNotFoundError",
          "evalue": "ignored",
          "traceback": [
            "\u001b[0;31m---------------------------------------------------------------------------\u001b[0m",
            "\u001b[0;31mFileNotFoundError\u001b[0m                         Traceback (most recent call last)",
            "\u001b[0;32m<ipython-input-1-efc5dfe4436b>\u001b[0m in \u001b[0;36m<cell line: 2>\u001b[0;34m()\u001b[0m\n\u001b[1;32m      1\u001b[0m \u001b[0;32mimport\u001b[0m \u001b[0mpandas\u001b[0m \u001b[0;32mas\u001b[0m \u001b[0mpd\u001b[0m\u001b[0;34m\u001b[0m\u001b[0;34m\u001b[0m\u001b[0m\n\u001b[0;32m----> 2\u001b[0;31m \u001b[0mdf\u001b[0m\u001b[0;34m=\u001b[0m\u001b[0mpd\u001b[0m\u001b[0;34m.\u001b[0m\u001b[0mread_json\u001b[0m\u001b[0;34m(\u001b[0m\u001b[0;34m\"combined.json\"\u001b[0m\u001b[0;34m,\u001b[0m\u001b[0mlines\u001b[0m\u001b[0;34m=\u001b[0m\u001b[0;32mTrue\u001b[0m\u001b[0;34m)\u001b[0m \u001b[0;31m#lines True means one line per json object\u001b[0m\u001b[0;34m\u001b[0m\u001b[0;34m\u001b[0m\u001b[0m\n\u001b[0m\u001b[1;32m      3\u001b[0m \u001b[0mdf\u001b[0m\u001b[0;34m.\u001b[0m\u001b[0mshape\u001b[0m\u001b[0;34m\u001b[0m\u001b[0;34m\u001b[0m\u001b[0m\n",
            "\u001b[0;32m/usr/local/lib/python3.10/dist-packages/pandas/util/_decorators.py\u001b[0m in \u001b[0;36mwrapper\u001b[0;34m(*args, **kwargs)\u001b[0m\n\u001b[1;32m    209\u001b[0m                 \u001b[0;32melse\u001b[0m\u001b[0;34m:\u001b[0m\u001b[0;34m\u001b[0m\u001b[0;34m\u001b[0m\u001b[0m\n\u001b[1;32m    210\u001b[0m                     \u001b[0mkwargs\u001b[0m\u001b[0;34m[\u001b[0m\u001b[0mnew_arg_name\u001b[0m\u001b[0;34m]\u001b[0m \u001b[0;34m=\u001b[0m \u001b[0mnew_arg_value\u001b[0m\u001b[0;34m\u001b[0m\u001b[0;34m\u001b[0m\u001b[0m\n\u001b[0;32m--> 211\u001b[0;31m             \u001b[0;32mreturn\u001b[0m \u001b[0mfunc\u001b[0m\u001b[0;34m(\u001b[0m\u001b[0;34m*\u001b[0m\u001b[0margs\u001b[0m\u001b[0;34m,\u001b[0m \u001b[0;34m**\u001b[0m\u001b[0mkwargs\u001b[0m\u001b[0;34m)\u001b[0m\u001b[0;34m\u001b[0m\u001b[0;34m\u001b[0m\u001b[0m\n\u001b[0m\u001b[1;32m    212\u001b[0m \u001b[0;34m\u001b[0m\u001b[0m\n\u001b[1;32m    213\u001b[0m         \u001b[0;32mreturn\u001b[0m \u001b[0mcast\u001b[0m\u001b[0;34m(\u001b[0m\u001b[0mF\u001b[0m\u001b[0;34m,\u001b[0m \u001b[0mwrapper\u001b[0m\u001b[0;34m)\u001b[0m\u001b[0;34m\u001b[0m\u001b[0;34m\u001b[0m\u001b[0m\n",
            "\u001b[0;32m/usr/local/lib/python3.10/dist-packages/pandas/util/_decorators.py\u001b[0m in \u001b[0;36mwrapper\u001b[0;34m(*args, **kwargs)\u001b[0m\n\u001b[1;32m    329\u001b[0m                     \u001b[0mstacklevel\u001b[0m\u001b[0;34m=\u001b[0m\u001b[0mfind_stack_level\u001b[0m\u001b[0;34m(\u001b[0m\u001b[0;34m)\u001b[0m\u001b[0;34m,\u001b[0m\u001b[0;34m\u001b[0m\u001b[0;34m\u001b[0m\u001b[0m\n\u001b[1;32m    330\u001b[0m                 )\n\u001b[0;32m--> 331\u001b[0;31m             \u001b[0;32mreturn\u001b[0m \u001b[0mfunc\u001b[0m\u001b[0;34m(\u001b[0m\u001b[0;34m*\u001b[0m\u001b[0margs\u001b[0m\u001b[0;34m,\u001b[0m \u001b[0;34m**\u001b[0m\u001b[0mkwargs\u001b[0m\u001b[0;34m)\u001b[0m\u001b[0;34m\u001b[0m\u001b[0;34m\u001b[0m\u001b[0m\n\u001b[0m\u001b[1;32m    332\u001b[0m \u001b[0;34m\u001b[0m\u001b[0m\n\u001b[1;32m    333\u001b[0m         \u001b[0;31m# error: \"Callable[[VarArg(Any), KwArg(Any)], Any]\" has no\u001b[0m\u001b[0;34m\u001b[0m\u001b[0;34m\u001b[0m\u001b[0m\n",
            "\u001b[0;32m/usr/local/lib/python3.10/dist-packages/pandas/io/json/_json.py\u001b[0m in \u001b[0;36mread_json\u001b[0;34m(path_or_buf, orient, typ, dtype, convert_axes, convert_dates, keep_default_dates, numpy, precise_float, date_unit, encoding, encoding_errors, lines, chunksize, compression, nrows, storage_options)\u001b[0m\n\u001b[1;32m    731\u001b[0m         \u001b[0mconvert_axes\u001b[0m \u001b[0;34m=\u001b[0m \u001b[0;32mTrue\u001b[0m\u001b[0;34m\u001b[0m\u001b[0;34m\u001b[0m\u001b[0m\n\u001b[1;32m    732\u001b[0m \u001b[0;34m\u001b[0m\u001b[0m\n\u001b[0;32m--> 733\u001b[0;31m     json_reader = JsonReader(\n\u001b[0m\u001b[1;32m    734\u001b[0m         \u001b[0mpath_or_buf\u001b[0m\u001b[0;34m,\u001b[0m\u001b[0;34m\u001b[0m\u001b[0;34m\u001b[0m\u001b[0m\n\u001b[1;32m    735\u001b[0m         \u001b[0morient\u001b[0m\u001b[0;34m=\u001b[0m\u001b[0morient\u001b[0m\u001b[0;34m,\u001b[0m\u001b[0;34m\u001b[0m\u001b[0;34m\u001b[0m\u001b[0m\n",
            "\u001b[0;32m/usr/local/lib/python3.10/dist-packages/pandas/io/json/_json.py\u001b[0m in \u001b[0;36m__init__\u001b[0;34m(self, filepath_or_buffer, orient, typ, dtype, convert_axes, convert_dates, keep_default_dates, numpy, precise_float, date_unit, encoding, lines, chunksize, compression, nrows, storage_options, encoding_errors)\u001b[0m\n\u001b[1;32m    816\u001b[0m                 \u001b[0;32mraise\u001b[0m \u001b[0mValueError\u001b[0m\u001b[0;34m(\u001b[0m\u001b[0;34m\"nrows can only be passed if lines=True\"\u001b[0m\u001b[0;34m)\u001b[0m\u001b[0;34m\u001b[0m\u001b[0;34m\u001b[0m\u001b[0m\n\u001b[1;32m    817\u001b[0m \u001b[0;34m\u001b[0m\u001b[0m\n\u001b[0;32m--> 818\u001b[0;31m         \u001b[0mdata\u001b[0m \u001b[0;34m=\u001b[0m \u001b[0mself\u001b[0m\u001b[0;34m.\u001b[0m\u001b[0m_get_data_from_filepath\u001b[0m\u001b[0;34m(\u001b[0m\u001b[0mfilepath_or_buffer\u001b[0m\u001b[0;34m)\u001b[0m\u001b[0;34m\u001b[0m\u001b[0;34m\u001b[0m\u001b[0m\n\u001b[0m\u001b[1;32m    819\u001b[0m         \u001b[0mself\u001b[0m\u001b[0;34m.\u001b[0m\u001b[0mdata\u001b[0m \u001b[0;34m=\u001b[0m \u001b[0mself\u001b[0m\u001b[0;34m.\u001b[0m\u001b[0m_preprocess_data\u001b[0m\u001b[0;34m(\u001b[0m\u001b[0mdata\u001b[0m\u001b[0;34m)\u001b[0m\u001b[0;34m\u001b[0m\u001b[0;34m\u001b[0m\u001b[0m\n\u001b[1;32m    820\u001b[0m \u001b[0;34m\u001b[0m\u001b[0m\n",
            "\u001b[0;32m/usr/local/lib/python3.10/dist-packages/pandas/io/json/_json.py\u001b[0m in \u001b[0;36m_get_data_from_filepath\u001b[0;34m(self, filepath_or_buffer)\u001b[0m\n\u001b[1;32m    872\u001b[0m             \u001b[0;32mand\u001b[0m \u001b[0;32mnot\u001b[0m \u001b[0mfile_exists\u001b[0m\u001b[0;34m(\u001b[0m\u001b[0mfilepath_or_buffer\u001b[0m\u001b[0;34m)\u001b[0m\u001b[0;34m\u001b[0m\u001b[0;34m\u001b[0m\u001b[0m\n\u001b[1;32m    873\u001b[0m         ):\n\u001b[0;32m--> 874\u001b[0;31m             \u001b[0;32mraise\u001b[0m \u001b[0mFileNotFoundError\u001b[0m\u001b[0;34m(\u001b[0m\u001b[0;34mf\"File {filepath_or_buffer} does not exist\"\u001b[0m\u001b[0;34m)\u001b[0m\u001b[0;34m\u001b[0m\u001b[0;34m\u001b[0m\u001b[0m\n\u001b[0m\u001b[1;32m    875\u001b[0m \u001b[0;34m\u001b[0m\u001b[0m\n\u001b[1;32m    876\u001b[0m         \u001b[0;32mreturn\u001b[0m \u001b[0mfilepath_or_buffer\u001b[0m\u001b[0;34m\u001b[0m\u001b[0;34m\u001b[0m\u001b[0m\n",
            "\u001b[0;31mFileNotFoundError\u001b[0m: File combined.json does not exist"
          ]
        }
      ]
    },
    {
      "cell_type": "code",
      "source": [
        "df.head()"
      ],
      "metadata": {
        "colab": {
          "base_uri": "https://localhost:8080/",
          "height": 337
        },
        "id": "n8xwtFK0tQaW",
        "outputId": "d3b6a555-1194-4484-c093-a0f8957d2d57"
      },
      "execution_count": null,
      "outputs": [
        {
          "output_type": "execute_result",
          "data": {
            "text/plain": [
              "        id                                              title  \\\n",
              "0     None       Convicted Bomb Plotter Sentenced to 30 Years   \n",
              "1  12-919   $1 Million in Restitution Payments Announced t...   \n",
              "2  11-1002  $1 Million Settlement Reached for Natural Reso...   \n",
              "3   10-015  10 Las Vegas Men Indicted \\r\\nfor Falsifying V...   \n",
              "4   18-898  $100 Million Settlement Will Speed Cleanup Wor...   \n",
              "\n",
              "                                            contents  \\\n",
              "0  PORTLAND, Oregon. – Mohamed Osman Mohamud, 23,...   \n",
              "1    WASHINGTON – North Carolina’s Waccamaw River...   \n",
              "2        BOSTON– A $1-million settlement has been...   \n",
              "3    WASHINGTON—A federal grand jury in Las Vegas...   \n",
              "4  The U.S. Department of Justice, the U.S. Envir...   \n",
              "\n",
              "                        date         topics  \\\n",
              "0  2014-10-01T00:00:00-04:00             []   \n",
              "1  2012-07-25T00:00:00-04:00             []   \n",
              "2  2011-08-03T00:00:00-04:00             []   \n",
              "3  2010-01-08T00:00:00-05:00             []   \n",
              "4  2018-07-09T00:00:00-04:00  [Environment]   \n",
              "\n",
              "                                     components  \n",
              "0            [National Security Division (NSD)]  \n",
              "1  [Environment and Natural Resources Division]  \n",
              "2  [Environment and Natural Resources Division]  \n",
              "3  [Environment and Natural Resources Division]  \n",
              "4  [Environment and Natural Resources Division]  "
            ],
            "text/html": [
              "\n",
              "  <div id=\"df-35800bf5-dfa9-4ddc-a319-175fefd4ff27\">\n",
              "    <div class=\"colab-df-container\">\n",
              "      <div>\n",
              "<style scoped>\n",
              "    .dataframe tbody tr th:only-of-type {\n",
              "        vertical-align: middle;\n",
              "    }\n",
              "\n",
              "    .dataframe tbody tr th {\n",
              "        vertical-align: top;\n",
              "    }\n",
              "\n",
              "    .dataframe thead th {\n",
              "        text-align: right;\n",
              "    }\n",
              "</style>\n",
              "<table border=\"1\" class=\"dataframe\">\n",
              "  <thead>\n",
              "    <tr style=\"text-align: right;\">\n",
              "      <th></th>\n",
              "      <th>id</th>\n",
              "      <th>title</th>\n",
              "      <th>contents</th>\n",
              "      <th>date</th>\n",
              "      <th>topics</th>\n",
              "      <th>components</th>\n",
              "    </tr>\n",
              "  </thead>\n",
              "  <tbody>\n",
              "    <tr>\n",
              "      <th>0</th>\n",
              "      <td>None</td>\n",
              "      <td>Convicted Bomb Plotter Sentenced to 30 Years</td>\n",
              "      <td>PORTLAND, Oregon. – Mohamed Osman Mohamud, 23,...</td>\n",
              "      <td>2014-10-01T00:00:00-04:00</td>\n",
              "      <td>[]</td>\n",
              "      <td>[National Security Division (NSD)]</td>\n",
              "    </tr>\n",
              "    <tr>\n",
              "      <th>1</th>\n",
              "      <td>12-919</td>\n",
              "      <td>$1 Million in Restitution Payments Announced t...</td>\n",
              "      <td>WASHINGTON – North Carolina’s Waccamaw River...</td>\n",
              "      <td>2012-07-25T00:00:00-04:00</td>\n",
              "      <td>[]</td>\n",
              "      <td>[Environment and Natural Resources Division]</td>\n",
              "    </tr>\n",
              "    <tr>\n",
              "      <th>2</th>\n",
              "      <td>11-1002</td>\n",
              "      <td>$1 Million Settlement Reached for Natural Reso...</td>\n",
              "      <td>BOSTON– A $1-million settlement has been...</td>\n",
              "      <td>2011-08-03T00:00:00-04:00</td>\n",
              "      <td>[]</td>\n",
              "      <td>[Environment and Natural Resources Division]</td>\n",
              "    </tr>\n",
              "    <tr>\n",
              "      <th>3</th>\n",
              "      <td>10-015</td>\n",
              "      <td>10 Las Vegas Men Indicted \\r\\nfor Falsifying V...</td>\n",
              "      <td>WASHINGTON—A federal grand jury in Las Vegas...</td>\n",
              "      <td>2010-01-08T00:00:00-05:00</td>\n",
              "      <td>[]</td>\n",
              "      <td>[Environment and Natural Resources Division]</td>\n",
              "    </tr>\n",
              "    <tr>\n",
              "      <th>4</th>\n",
              "      <td>18-898</td>\n",
              "      <td>$100 Million Settlement Will Speed Cleanup Wor...</td>\n",
              "      <td>The U.S. Department of Justice, the U.S. Envir...</td>\n",
              "      <td>2018-07-09T00:00:00-04:00</td>\n",
              "      <td>[Environment]</td>\n",
              "      <td>[Environment and Natural Resources Division]</td>\n",
              "    </tr>\n",
              "  </tbody>\n",
              "</table>\n",
              "</div>\n",
              "      <button class=\"colab-df-convert\" onclick=\"convertToInteractive('df-35800bf5-dfa9-4ddc-a319-175fefd4ff27')\"\n",
              "              title=\"Convert this dataframe to an interactive table.\"\n",
              "              style=\"display:none;\">\n",
              "        \n",
              "  <svg xmlns=\"http://www.w3.org/2000/svg\" height=\"24px\"viewBox=\"0 0 24 24\"\n",
              "       width=\"24px\">\n",
              "    <path d=\"M0 0h24v24H0V0z\" fill=\"none\"/>\n",
              "    <path d=\"M18.56 5.44l.94 2.06.94-2.06 2.06-.94-2.06-.94-.94-2.06-.94 2.06-2.06.94zm-11 1L8.5 8.5l.94-2.06 2.06-.94-2.06-.94L8.5 2.5l-.94 2.06-2.06.94zm10 10l.94 2.06.94-2.06 2.06-.94-2.06-.94-.94-2.06-.94 2.06-2.06.94z\"/><path d=\"M17.41 7.96l-1.37-1.37c-.4-.4-.92-.59-1.43-.59-.52 0-1.04.2-1.43.59L10.3 9.45l-7.72 7.72c-.78.78-.78 2.05 0 2.83L4 21.41c.39.39.9.59 1.41.59.51 0 1.02-.2 1.41-.59l7.78-7.78 2.81-2.81c.8-.78.8-2.07 0-2.86zM5.41 20L4 18.59l7.72-7.72 1.47 1.35L5.41 20z\"/>\n",
              "  </svg>\n",
              "      </button>\n",
              "      \n",
              "  <style>\n",
              "    .colab-df-container {\n",
              "      display:flex;\n",
              "      flex-wrap:wrap;\n",
              "      gap: 12px;\n",
              "    }\n",
              "\n",
              "    .colab-df-convert {\n",
              "      background-color: #E8F0FE;\n",
              "      border: none;\n",
              "      border-radius: 50%;\n",
              "      cursor: pointer;\n",
              "      display: none;\n",
              "      fill: #1967D2;\n",
              "      height: 32px;\n",
              "      padding: 0 0 0 0;\n",
              "      width: 32px;\n",
              "    }\n",
              "\n",
              "    .colab-df-convert:hover {\n",
              "      background-color: #E2EBFA;\n",
              "      box-shadow: 0px 1px 2px rgba(60, 64, 67, 0.3), 0px 1px 3px 1px rgba(60, 64, 67, 0.15);\n",
              "      fill: #174EA6;\n",
              "    }\n",
              "\n",
              "    [theme=dark] .colab-df-convert {\n",
              "      background-color: #3B4455;\n",
              "      fill: #D2E3FC;\n",
              "    }\n",
              "\n",
              "    [theme=dark] .colab-df-convert:hover {\n",
              "      background-color: #434B5C;\n",
              "      box-shadow: 0px 1px 3px 1px rgba(0, 0, 0, 0.15);\n",
              "      filter: drop-shadow(0px 1px 2px rgba(0, 0, 0, 0.3));\n",
              "      fill: #FFFFFF;\n",
              "    }\n",
              "  </style>\n",
              "\n",
              "      <script>\n",
              "        const buttonEl =\n",
              "          document.querySelector('#df-35800bf5-dfa9-4ddc-a319-175fefd4ff27 button.colab-df-convert');\n",
              "        buttonEl.style.display =\n",
              "          google.colab.kernel.accessAllowed ? 'block' : 'none';\n",
              "\n",
              "        async function convertToInteractive(key) {\n",
              "          const element = document.querySelector('#df-35800bf5-dfa9-4ddc-a319-175fefd4ff27');\n",
              "          const dataTable =\n",
              "            await google.colab.kernel.invokeFunction('convertToInteractive',\n",
              "                                                     [key], {});\n",
              "          if (!dataTable) return;\n",
              "\n",
              "          const docLinkHtml = 'Like what you see? Visit the ' +\n",
              "            '<a target=\"_blank\" href=https://colab.research.google.com/notebooks/data_table.ipynb>data table notebook</a>'\n",
              "            + ' to learn more about interactive tables.';\n",
              "          element.innerHTML = '';\n",
              "          dataTable['output_type'] = 'display_data';\n",
              "          await google.colab.output.renderOutput(dataTable, element);\n",
              "          const docLink = document.createElement('div');\n",
              "          docLink.innerHTML = docLinkHtml;\n",
              "          element.appendChild(docLink);\n",
              "        }\n",
              "      </script>\n",
              "    </div>\n",
              "  </div>\n",
              "  "
            ]
          },
          "metadata": {},
          "execution_count": 48
        }
      ]
    },
    {
      "cell_type": "markdown",
      "source": [
        "- Since we can see that few of the rows of the topics row is empty so we are going to remove the title who don't have topics"
      ],
      "metadata": {
        "id": "rYjPJxAttkh-"
      }
    },
    {
      "cell_type": "code",
      "source": [
        "type(df.topics[0])"
      ],
      "metadata": {
        "colab": {
          "base_uri": "https://localhost:8080/"
        },
        "id": "ILOVOTKJtWpw",
        "outputId": "0778b1bf-7c5c-48e9-a054-e25493088089"
      },
      "execution_count": null,
      "outputs": [
        {
          "output_type": "execute_result",
          "data": {
            "text/plain": [
              "list"
            ]
          },
          "metadata": {},
          "execution_count": 36
        }
      ]
    },
    {
      "cell_type": "markdown",
      "source": [
        "- Since topics is an list data type we are goin to use filtering conditions to filter it out."
      ],
      "metadata": {
        "id": "OuIUOKLcuBCv"
      }
    },
    {
      "cell_type": "markdown",
      "source": [
        "- Filter out those rows that do not have any topics associated with the case"
      ],
      "metadata": {
        "id": "Yhgn_oFTviNf"
      }
    },
    {
      "cell_type": "code",
      "source": [
        "df = df[df[\"topics\"].str.len() != 0]\n",
        "df.head()"
      ],
      "metadata": {
        "colab": {
          "base_uri": "https://localhost:8080/",
          "height": 337
        },
        "id": "IadYNKz-t7Qo",
        "outputId": "fc97944b-e938-4d62-ea74-9adff4c48ed3"
      },
      "execution_count": null,
      "outputs": [
        {
          "output_type": "execute_result",
          "data": {
            "text/plain": [
              "         id                                              title  \\\n",
              "4    18-898  $100 Million Settlement Will Speed Cleanup Wor...   \n",
              "7   14-1412  14 Indicted in Connection with New England Com...   \n",
              "19  17-1419  2017 Southeast Regional Animal Cruelty Prosecu...   \n",
              "22  15-1562  21st Century Oncology to Pay $19.75 Million to...   \n",
              "23  17-1404  21st Century Oncology to Pay $26 Million to Se...   \n",
              "\n",
              "                                             contents  \\\n",
              "4   The U.S. Department of Justice, the U.S. Envir...   \n",
              "7   A 131-count criminal indictment was unsealed t...   \n",
              "19  The United States Attorney’s Office for the Mi...   \n",
              "22  21st Century Oncology LLC, has agreed to pay $...   \n",
              "23  21st Century Oncology Inc. and certain of its ...   \n",
              "\n",
              "                         date                                 topics  \\\n",
              "4   2018-07-09T00:00:00-04:00                          [Environment]   \n",
              "7   2014-12-17T00:00:00-05:00                  [Consumer Protection]   \n",
              "19  2017-12-14T00:00:00-05:00                          [Environment]   \n",
              "22  2015-12-18T00:00:00-05:00  [False Claims Act, Health Care Fraud]   \n",
              "23  2017-12-12T00:00:00-05:00  [Health Care Fraud, False Claims Act]   \n",
              "\n",
              "                                           components  \n",
              "4        [Environment and Natural Resources Division]  \n",
              "7                                    [Civil Division]  \n",
              "19  [Environment and Natural Resources Division, U...  \n",
              "22                                   [Civil Division]  \n",
              "23           [Civil Division, USAO - Florida, Middle]  "
            ],
            "text/html": [
              "\n",
              "  <div id=\"df-5cbb0fdf-6f4a-43f6-93e1-946ff951e58d\">\n",
              "    <div class=\"colab-df-container\">\n",
              "      <div>\n",
              "<style scoped>\n",
              "    .dataframe tbody tr th:only-of-type {\n",
              "        vertical-align: middle;\n",
              "    }\n",
              "\n",
              "    .dataframe tbody tr th {\n",
              "        vertical-align: top;\n",
              "    }\n",
              "\n",
              "    .dataframe thead th {\n",
              "        text-align: right;\n",
              "    }\n",
              "</style>\n",
              "<table border=\"1\" class=\"dataframe\">\n",
              "  <thead>\n",
              "    <tr style=\"text-align: right;\">\n",
              "      <th></th>\n",
              "      <th>id</th>\n",
              "      <th>title</th>\n",
              "      <th>contents</th>\n",
              "      <th>date</th>\n",
              "      <th>topics</th>\n",
              "      <th>components</th>\n",
              "    </tr>\n",
              "  </thead>\n",
              "  <tbody>\n",
              "    <tr>\n",
              "      <th>4</th>\n",
              "      <td>18-898</td>\n",
              "      <td>$100 Million Settlement Will Speed Cleanup Wor...</td>\n",
              "      <td>The U.S. Department of Justice, the U.S. Envir...</td>\n",
              "      <td>2018-07-09T00:00:00-04:00</td>\n",
              "      <td>[Environment]</td>\n",
              "      <td>[Environment and Natural Resources Division]</td>\n",
              "    </tr>\n",
              "    <tr>\n",
              "      <th>7</th>\n",
              "      <td>14-1412</td>\n",
              "      <td>14 Indicted in Connection with New England Com...</td>\n",
              "      <td>A 131-count criminal indictment was unsealed t...</td>\n",
              "      <td>2014-12-17T00:00:00-05:00</td>\n",
              "      <td>[Consumer Protection]</td>\n",
              "      <td>[Civil Division]</td>\n",
              "    </tr>\n",
              "    <tr>\n",
              "      <th>19</th>\n",
              "      <td>17-1419</td>\n",
              "      <td>2017 Southeast Regional Animal Cruelty Prosecu...</td>\n",
              "      <td>The United States Attorney’s Office for the Mi...</td>\n",
              "      <td>2017-12-14T00:00:00-05:00</td>\n",
              "      <td>[Environment]</td>\n",
              "      <td>[Environment and Natural Resources Division, U...</td>\n",
              "    </tr>\n",
              "    <tr>\n",
              "      <th>22</th>\n",
              "      <td>15-1562</td>\n",
              "      <td>21st Century Oncology to Pay $19.75 Million to...</td>\n",
              "      <td>21st Century Oncology LLC, has agreed to pay $...</td>\n",
              "      <td>2015-12-18T00:00:00-05:00</td>\n",
              "      <td>[False Claims Act, Health Care Fraud]</td>\n",
              "      <td>[Civil Division]</td>\n",
              "    </tr>\n",
              "    <tr>\n",
              "      <th>23</th>\n",
              "      <td>17-1404</td>\n",
              "      <td>21st Century Oncology to Pay $26 Million to Se...</td>\n",
              "      <td>21st Century Oncology Inc. and certain of its ...</td>\n",
              "      <td>2017-12-12T00:00:00-05:00</td>\n",
              "      <td>[Health Care Fraud, False Claims Act]</td>\n",
              "      <td>[Civil Division, USAO - Florida, Middle]</td>\n",
              "    </tr>\n",
              "  </tbody>\n",
              "</table>\n",
              "</div>\n",
              "      <button class=\"colab-df-convert\" onclick=\"convertToInteractive('df-5cbb0fdf-6f4a-43f6-93e1-946ff951e58d')\"\n",
              "              title=\"Convert this dataframe to an interactive table.\"\n",
              "              style=\"display:none;\">\n",
              "        \n",
              "  <svg xmlns=\"http://www.w3.org/2000/svg\" height=\"24px\"viewBox=\"0 0 24 24\"\n",
              "       width=\"24px\">\n",
              "    <path d=\"M0 0h24v24H0V0z\" fill=\"none\"/>\n",
              "    <path d=\"M18.56 5.44l.94 2.06.94-2.06 2.06-.94-2.06-.94-.94-2.06-.94 2.06-2.06.94zm-11 1L8.5 8.5l.94-2.06 2.06-.94-2.06-.94L8.5 2.5l-.94 2.06-2.06.94zm10 10l.94 2.06.94-2.06 2.06-.94-2.06-.94-.94-2.06-.94 2.06-2.06.94z\"/><path d=\"M17.41 7.96l-1.37-1.37c-.4-.4-.92-.59-1.43-.59-.52 0-1.04.2-1.43.59L10.3 9.45l-7.72 7.72c-.78.78-.78 2.05 0 2.83L4 21.41c.39.39.9.59 1.41.59.51 0 1.02-.2 1.41-.59l7.78-7.78 2.81-2.81c.8-.78.8-2.07 0-2.86zM5.41 20L4 18.59l7.72-7.72 1.47 1.35L5.41 20z\"/>\n",
              "  </svg>\n",
              "      </button>\n",
              "      \n",
              "  <style>\n",
              "    .colab-df-container {\n",
              "      display:flex;\n",
              "      flex-wrap:wrap;\n",
              "      gap: 12px;\n",
              "    }\n",
              "\n",
              "    .colab-df-convert {\n",
              "      background-color: #E8F0FE;\n",
              "      border: none;\n",
              "      border-radius: 50%;\n",
              "      cursor: pointer;\n",
              "      display: none;\n",
              "      fill: #1967D2;\n",
              "      height: 32px;\n",
              "      padding: 0 0 0 0;\n",
              "      width: 32px;\n",
              "    }\n",
              "\n",
              "    .colab-df-convert:hover {\n",
              "      background-color: #E2EBFA;\n",
              "      box-shadow: 0px 1px 2px rgba(60, 64, 67, 0.3), 0px 1px 3px 1px rgba(60, 64, 67, 0.15);\n",
              "      fill: #174EA6;\n",
              "    }\n",
              "\n",
              "    [theme=dark] .colab-df-convert {\n",
              "      background-color: #3B4455;\n",
              "      fill: #D2E3FC;\n",
              "    }\n",
              "\n",
              "    [theme=dark] .colab-df-convert:hover {\n",
              "      background-color: #434B5C;\n",
              "      box-shadow: 0px 1px 3px 1px rgba(0, 0, 0, 0.15);\n",
              "      filter: drop-shadow(0px 1px 2px rgba(0, 0, 0, 0.3));\n",
              "      fill: #FFFFFF;\n",
              "    }\n",
              "  </style>\n",
              "\n",
              "      <script>\n",
              "        const buttonEl =\n",
              "          document.querySelector('#df-5cbb0fdf-6f4a-43f6-93e1-946ff951e58d button.colab-df-convert');\n",
              "        buttonEl.style.display =\n",
              "          google.colab.kernel.accessAllowed ? 'block' : 'none';\n",
              "\n",
              "        async function convertToInteractive(key) {\n",
              "          const element = document.querySelector('#df-5cbb0fdf-6f4a-43f6-93e1-946ff951e58d');\n",
              "          const dataTable =\n",
              "            await google.colab.kernel.invokeFunction('convertToInteractive',\n",
              "                                                     [key], {});\n",
              "          if (!dataTable) return;\n",
              "\n",
              "          const docLinkHtml = 'Like what you see? Visit the ' +\n",
              "            '<a target=\"_blank\" href=https://colab.research.google.com/notebooks/data_table.ipynb>data table notebook</a>'\n",
              "            + ' to learn more about interactive tables.';\n",
              "          element.innerHTML = '';\n",
              "          dataTable['output_type'] = 'display_data';\n",
              "          await google.colab.output.renderOutput(dataTable, element);\n",
              "          const docLink = document.createElement('div');\n",
              "          docLink.innerHTML = docLinkHtml;\n",
              "          element.appendChild(docLink);\n",
              "        }\n",
              "      </script>\n",
              "    </div>\n",
              "  </div>\n",
              "  "
            ]
          },
          "metadata": {},
          "execution_count": 49
        }
      ]
    },
    {
      "cell_type": "code",
      "source": [
        "df.shape"
      ],
      "metadata": {
        "colab": {
          "base_uri": "https://localhost:8080/"
        },
        "id": "6-UnVSKcvlay",
        "outputId": "d2c8ea96-8270-4c82-a34a-47b62f6fdb62"
      },
      "execution_count": null,
      "outputs": [
        {
          "output_type": "execute_result",
          "data": {
            "text/plain": [
              "(4688, 6)"
            ]
          },
          "metadata": {},
          "execution_count": 38
        }
      ]
    },
    {
      "cell_type": "code",
      "source": [
        "df =df.head(100)\n",
        "df.shape"
      ],
      "metadata": {
        "colab": {
          "base_uri": "https://localhost:8080/"
        },
        "id": "4XRZcA7rvoKl",
        "outputId": "38b3f2d2-1613-47de-e280-07be6eca794e"
      },
      "execution_count": null,
      "outputs": [
        {
          "output_type": "execute_result",
          "data": {
            "text/plain": [
              "(100, 6)"
            ]
          },
          "metadata": {},
          "execution_count": 39
        }
      ]
    },
    {
      "cell_type": "code",
      "source": [
        "df[\"contents_new\"] = df.contents.apply(preprocess)"
      ],
      "metadata": {
        "id": "7smXdficvwYt"
      },
      "execution_count": null,
      "outputs": []
    },
    {
      "cell_type": "code",
      "source": [
        "df"
      ],
      "metadata": {
        "colab": {
          "base_uri": "https://localhost:8080/",
          "height": 815
        },
        "id": "BffpothbvzB8",
        "outputId": "e6e337b9-f375-4de5-829b-a90586688922"
      },
      "execution_count": null,
      "outputs": [
        {
          "output_type": "execute_result",
          "data": {
            "text/plain": [
              "          id                                              title  \\\n",
              "4     18-898  $100 Million Settlement Will Speed Cleanup Wor...   \n",
              "7    14-1412  14 Indicted in Connection with New England Com...   \n",
              "19   17-1419  2017 Southeast Regional Animal Cruelty Prosecu...   \n",
              "22   15-1562  21st Century Oncology to Pay $19.75 Million to...   \n",
              "23   17-1404  21st Century Oncology to Pay $26 Million to Se...   \n",
              "..       ...                                                ...   \n",
              "316  15-1359  Alaska Plastic Surgeon Convicted of Wire Fraud...   \n",
              "318   16-396  Alaska Plastic Surgeon Sentenced to Prison for...   \n",
              "321   17-736  Alaskan Commercial Fishing Couple Charged with...   \n",
              "322   18-717  Alaskan Husband And Wife Plead Guilty To Willf...   \n",
              "324  16-1345        Alaskan Oncologist Indicted for Tax Evasion   \n",
              "\n",
              "                                              contents  \\\n",
              "4    The U.S. Department of Justice, the U.S. Envir...   \n",
              "7    A 131-count criminal indictment was unsealed t...   \n",
              "19   The United States Attorney’s Office for the Mi...   \n",
              "22   21st Century Oncology LLC, has agreed to pay $...   \n",
              "23   21st Century Oncology Inc. and certain of its ...   \n",
              "..                                                 ...   \n",
              "316  Doctor Hid Millions in Secret Accounts in Pana...   \n",
              "318  Defendant Concealed Bank Accounts in Panama an...   \n",
              "321  An Alaskan couple was charged in federal court...   \n",
              "322  A husband and wife pleaded guilty yesterday to...   \n",
              "324  A resident of Big Lake, Alaska was indicted on...   \n",
              "\n",
              "                          date                                 topics  \\\n",
              "4    2018-07-09T00:00:00-04:00                          [Environment]   \n",
              "7    2014-12-17T00:00:00-05:00                  [Consumer Protection]   \n",
              "19   2017-12-14T00:00:00-05:00                          [Environment]   \n",
              "22   2015-12-18T00:00:00-05:00  [False Claims Act, Health Care Fraud]   \n",
              "23   2017-12-12T00:00:00-05:00  [Health Care Fraud, False Claims Act]   \n",
              "..                         ...                                    ...   \n",
              "316  2015-11-04T00:00:00-05:00                                  [Tax]   \n",
              "318  2016-04-04T00:00:00-04:00                                  [Tax]   \n",
              "321  2017-07-26T00:00:00-04:00                                  [Tax]   \n",
              "322  2018-06-01T00:00:00-04:00                                  [Tax]   \n",
              "324  2016-11-17T00:00:00-05:00                                  [Tax]   \n",
              "\n",
              "                                            components  \\\n",
              "4         [Environment and Natural Resources Division]   \n",
              "7                                     [Civil Division]   \n",
              "19   [Environment and Natural Resources Division, U...   \n",
              "22                                    [Civil Division]   \n",
              "23            [Civil Division, USAO - Florida, Middle]   \n",
              "..                                                 ...   \n",
              "316                                     [Tax Division]   \n",
              "318                                     [Tax Division]   \n",
              "321                      [Tax Division, USAO - Alaska]   \n",
              "322                                     [Tax Division]   \n",
              "324                                     [Tax Division]   \n",
              "\n",
              "                              contents_new  \n",
              "4    [opened, wings, flying, coming, soon]  \n",
              "7    [opened, wings, flying, coming, soon]  \n",
              "19   [opened, wings, flying, coming, soon]  \n",
              "22   [opened, wings, flying, coming, soon]  \n",
              "23   [opened, wings, flying, coming, soon]  \n",
              "..                                     ...  \n",
              "316  [opened, wings, flying, coming, soon]  \n",
              "318  [opened, wings, flying, coming, soon]  \n",
              "321  [opened, wings, flying, coming, soon]  \n",
              "322  [opened, wings, flying, coming, soon]  \n",
              "324  [opened, wings, flying, coming, soon]  \n",
              "\n",
              "[100 rows x 7 columns]"
            ],
            "text/html": [
              "\n",
              "  <div id=\"df-34a62813-ee86-44dd-b039-e92933c959a4\">\n",
              "    <div class=\"colab-df-container\">\n",
              "      <div>\n",
              "<style scoped>\n",
              "    .dataframe tbody tr th:only-of-type {\n",
              "        vertical-align: middle;\n",
              "    }\n",
              "\n",
              "    .dataframe tbody tr th {\n",
              "        vertical-align: top;\n",
              "    }\n",
              "\n",
              "    .dataframe thead th {\n",
              "        text-align: right;\n",
              "    }\n",
              "</style>\n",
              "<table border=\"1\" class=\"dataframe\">\n",
              "  <thead>\n",
              "    <tr style=\"text-align: right;\">\n",
              "      <th></th>\n",
              "      <th>id</th>\n",
              "      <th>title</th>\n",
              "      <th>contents</th>\n",
              "      <th>date</th>\n",
              "      <th>topics</th>\n",
              "      <th>components</th>\n",
              "      <th>contents_new</th>\n",
              "    </tr>\n",
              "  </thead>\n",
              "  <tbody>\n",
              "    <tr>\n",
              "      <th>4</th>\n",
              "      <td>18-898</td>\n",
              "      <td>$100 Million Settlement Will Speed Cleanup Wor...</td>\n",
              "      <td>The U.S. Department of Justice, the U.S. Envir...</td>\n",
              "      <td>2018-07-09T00:00:00-04:00</td>\n",
              "      <td>[Environment]</td>\n",
              "      <td>[Environment and Natural Resources Division]</td>\n",
              "      <td>[opened, wings, flying, coming, soon]</td>\n",
              "    </tr>\n",
              "    <tr>\n",
              "      <th>7</th>\n",
              "      <td>14-1412</td>\n",
              "      <td>14 Indicted in Connection with New England Com...</td>\n",
              "      <td>A 131-count criminal indictment was unsealed t...</td>\n",
              "      <td>2014-12-17T00:00:00-05:00</td>\n",
              "      <td>[Consumer Protection]</td>\n",
              "      <td>[Civil Division]</td>\n",
              "      <td>[opened, wings, flying, coming, soon]</td>\n",
              "    </tr>\n",
              "    <tr>\n",
              "      <th>19</th>\n",
              "      <td>17-1419</td>\n",
              "      <td>2017 Southeast Regional Animal Cruelty Prosecu...</td>\n",
              "      <td>The United States Attorney’s Office for the Mi...</td>\n",
              "      <td>2017-12-14T00:00:00-05:00</td>\n",
              "      <td>[Environment]</td>\n",
              "      <td>[Environment and Natural Resources Division, U...</td>\n",
              "      <td>[opened, wings, flying, coming, soon]</td>\n",
              "    </tr>\n",
              "    <tr>\n",
              "      <th>22</th>\n",
              "      <td>15-1562</td>\n",
              "      <td>21st Century Oncology to Pay $19.75 Million to...</td>\n",
              "      <td>21st Century Oncology LLC, has agreed to pay $...</td>\n",
              "      <td>2015-12-18T00:00:00-05:00</td>\n",
              "      <td>[False Claims Act, Health Care Fraud]</td>\n",
              "      <td>[Civil Division]</td>\n",
              "      <td>[opened, wings, flying, coming, soon]</td>\n",
              "    </tr>\n",
              "    <tr>\n",
              "      <th>23</th>\n",
              "      <td>17-1404</td>\n",
              "      <td>21st Century Oncology to Pay $26 Million to Se...</td>\n",
              "      <td>21st Century Oncology Inc. and certain of its ...</td>\n",
              "      <td>2017-12-12T00:00:00-05:00</td>\n",
              "      <td>[Health Care Fraud, False Claims Act]</td>\n",
              "      <td>[Civil Division, USAO - Florida, Middle]</td>\n",
              "      <td>[opened, wings, flying, coming, soon]</td>\n",
              "    </tr>\n",
              "    <tr>\n",
              "      <th>...</th>\n",
              "      <td>...</td>\n",
              "      <td>...</td>\n",
              "      <td>...</td>\n",
              "      <td>...</td>\n",
              "      <td>...</td>\n",
              "      <td>...</td>\n",
              "      <td>...</td>\n",
              "    </tr>\n",
              "    <tr>\n",
              "      <th>316</th>\n",
              "      <td>15-1359</td>\n",
              "      <td>Alaska Plastic Surgeon Convicted of Wire Fraud...</td>\n",
              "      <td>Doctor Hid Millions in Secret Accounts in Pana...</td>\n",
              "      <td>2015-11-04T00:00:00-05:00</td>\n",
              "      <td>[Tax]</td>\n",
              "      <td>[Tax Division]</td>\n",
              "      <td>[opened, wings, flying, coming, soon]</td>\n",
              "    </tr>\n",
              "    <tr>\n",
              "      <th>318</th>\n",
              "      <td>16-396</td>\n",
              "      <td>Alaska Plastic Surgeon Sentenced to Prison for...</td>\n",
              "      <td>Defendant Concealed Bank Accounts in Panama an...</td>\n",
              "      <td>2016-04-04T00:00:00-04:00</td>\n",
              "      <td>[Tax]</td>\n",
              "      <td>[Tax Division]</td>\n",
              "      <td>[opened, wings, flying, coming, soon]</td>\n",
              "    </tr>\n",
              "    <tr>\n",
              "      <th>321</th>\n",
              "      <td>17-736</td>\n",
              "      <td>Alaskan Commercial Fishing Couple Charged with...</td>\n",
              "      <td>An Alaskan couple was charged in federal court...</td>\n",
              "      <td>2017-07-26T00:00:00-04:00</td>\n",
              "      <td>[Tax]</td>\n",
              "      <td>[Tax Division, USAO - Alaska]</td>\n",
              "      <td>[opened, wings, flying, coming, soon]</td>\n",
              "    </tr>\n",
              "    <tr>\n",
              "      <th>322</th>\n",
              "      <td>18-717</td>\n",
              "      <td>Alaskan Husband And Wife Plead Guilty To Willf...</td>\n",
              "      <td>A husband and wife pleaded guilty yesterday to...</td>\n",
              "      <td>2018-06-01T00:00:00-04:00</td>\n",
              "      <td>[Tax]</td>\n",
              "      <td>[Tax Division]</td>\n",
              "      <td>[opened, wings, flying, coming, soon]</td>\n",
              "    </tr>\n",
              "    <tr>\n",
              "      <th>324</th>\n",
              "      <td>16-1345</td>\n",
              "      <td>Alaskan Oncologist Indicted for Tax Evasion</td>\n",
              "      <td>A resident of Big Lake, Alaska was indicted on...</td>\n",
              "      <td>2016-11-17T00:00:00-05:00</td>\n",
              "      <td>[Tax]</td>\n",
              "      <td>[Tax Division]</td>\n",
              "      <td>[opened, wings, flying, coming, soon]</td>\n",
              "    </tr>\n",
              "  </tbody>\n",
              "</table>\n",
              "<p>100 rows × 7 columns</p>\n",
              "</div>\n",
              "      <button class=\"colab-df-convert\" onclick=\"convertToInteractive('df-34a62813-ee86-44dd-b039-e92933c959a4')\"\n",
              "              title=\"Convert this dataframe to an interactive table.\"\n",
              "              style=\"display:none;\">\n",
              "        \n",
              "  <svg xmlns=\"http://www.w3.org/2000/svg\" height=\"24px\"viewBox=\"0 0 24 24\"\n",
              "       width=\"24px\">\n",
              "    <path d=\"M0 0h24v24H0V0z\" fill=\"none\"/>\n",
              "    <path d=\"M18.56 5.44l.94 2.06.94-2.06 2.06-.94-2.06-.94-.94-2.06-.94 2.06-2.06.94zm-11 1L8.5 8.5l.94-2.06 2.06-.94-2.06-.94L8.5 2.5l-.94 2.06-2.06.94zm10 10l.94 2.06.94-2.06 2.06-.94-2.06-.94-.94-2.06-.94 2.06-2.06.94z\"/><path d=\"M17.41 7.96l-1.37-1.37c-.4-.4-.92-.59-1.43-.59-.52 0-1.04.2-1.43.59L10.3 9.45l-7.72 7.72c-.78.78-.78 2.05 0 2.83L4 21.41c.39.39.9.59 1.41.59.51 0 1.02-.2 1.41-.59l7.78-7.78 2.81-2.81c.8-.78.8-2.07 0-2.86zM5.41 20L4 18.59l7.72-7.72 1.47 1.35L5.41 20z\"/>\n",
              "  </svg>\n",
              "      </button>\n",
              "      \n",
              "  <style>\n",
              "    .colab-df-container {\n",
              "      display:flex;\n",
              "      flex-wrap:wrap;\n",
              "      gap: 12px;\n",
              "    }\n",
              "\n",
              "    .colab-df-convert {\n",
              "      background-color: #E8F0FE;\n",
              "      border: none;\n",
              "      border-radius: 50%;\n",
              "      cursor: pointer;\n",
              "      display: none;\n",
              "      fill: #1967D2;\n",
              "      height: 32px;\n",
              "      padding: 0 0 0 0;\n",
              "      width: 32px;\n",
              "    }\n",
              "\n",
              "    .colab-df-convert:hover {\n",
              "      background-color: #E2EBFA;\n",
              "      box-shadow: 0px 1px 2px rgba(60, 64, 67, 0.3), 0px 1px 3px 1px rgba(60, 64, 67, 0.15);\n",
              "      fill: #174EA6;\n",
              "    }\n",
              "\n",
              "    [theme=dark] .colab-df-convert {\n",
              "      background-color: #3B4455;\n",
              "      fill: #D2E3FC;\n",
              "    }\n",
              "\n",
              "    [theme=dark] .colab-df-convert:hover {\n",
              "      background-color: #434B5C;\n",
              "      box-shadow: 0px 1px 3px 1px rgba(0, 0, 0, 0.15);\n",
              "      filter: drop-shadow(0px 1px 2px rgba(0, 0, 0, 0.3));\n",
              "      fill: #FFFFFF;\n",
              "    }\n",
              "  </style>\n",
              "\n",
              "      <script>\n",
              "        const buttonEl =\n",
              "          document.querySelector('#df-34a62813-ee86-44dd-b039-e92933c959a4 button.colab-df-convert');\n",
              "        buttonEl.style.display =\n",
              "          google.colab.kernel.accessAllowed ? 'block' : 'none';\n",
              "\n",
              "        async function convertToInteractive(key) {\n",
              "          const element = document.querySelector('#df-34a62813-ee86-44dd-b039-e92933c959a4');\n",
              "          const dataTable =\n",
              "            await google.colab.kernel.invokeFunction('convertToInteractive',\n",
              "                                                     [key], {});\n",
              "          if (!dataTable) return;\n",
              "\n",
              "          const docLinkHtml = 'Like what you see? Visit the ' +\n",
              "            '<a target=\"_blank\" href=https://colab.research.google.com/notebooks/data_table.ipynb>data table notebook</a>'\n",
              "            + ' to learn more about interactive tables.';\n",
              "          element.innerHTML = '';\n",
              "          dataTable['output_type'] = 'display_data';\n",
              "          await google.colab.output.renderOutput(dataTable, element);\n",
              "          const docLink = document.createElement('div');\n",
              "          docLink.innerHTML = docLinkHtml;\n",
              "          element.appendChild(docLink);\n",
              "        }\n",
              "      </script>\n",
              "    </div>\n",
              "  </div>\n",
              "  "
            ]
          },
          "metadata": {},
          "execution_count": 41
        }
      ]
    },
    {
      "cell_type": "code",
      "source": [
        "len(df.contents[4])"
      ],
      "metadata": {
        "colab": {
          "base_uri": "https://localhost:8080/"
        },
        "id": "4dpM-Tt7v0xh",
        "outputId": "02261c75-aa0e-4e88-81b0-5ba5efbeb22f"
      },
      "execution_count": null,
      "outputs": [
        {
          "output_type": "execute_result",
          "data": {
            "text/plain": [
              "6286"
            ]
          },
          "metadata": {},
          "execution_count": 42
        }
      ]
    },
    {
      "cell_type": "code",
      "source": [
        "len(df.contents_new[4])"
      ],
      "metadata": {
        "colab": {
          "base_uri": "https://localhost:8080/"
        },
        "id": "R1huKVP2v2p0",
        "outputId": "b14b9a73-46d1-4d3d-8917-87ea655b4926"
      },
      "execution_count": null,
      "outputs": [
        {
          "output_type": "execute_result",
          "data": {
            "text/plain": [
              "5"
            ]
          },
          "metadata": {},
          "execution_count": 43
        }
      ]
    },
    {
      "cell_type": "code",
      "source": [
        "df.contents[4][:300]"
      ],
      "metadata": {
        "colab": {
          "base_uri": "https://localhost:8080/",
          "height": 70
        },
        "id": "4ZQvRxPDv4q0",
        "outputId": "e069aaaa-2602-4935-86f6-16d6a6122a59"
      },
      "execution_count": null,
      "outputs": [
        {
          "output_type": "execute_result",
          "data": {
            "text/plain": [
              "'The U.S. Department of Justice, the U.S. Environmental Protection Agency (EPA), and the Rhode Island Department of Environmental Management (RIDEM) announced today that two subsidiaries of Stanley Black & Decker Inc.—Emhart Industries Inc. and Black & Decker Inc.—have agreed to clean up dioxin conta'"
            ],
            "application/vnd.google.colaboratory.intrinsic+json": {
              "type": "string"
            }
          },
          "metadata": {},
          "execution_count": 44
        }
      ]
    },
    {
      "cell_type": "code",
      "source": [
        "df.contents_new[4][:300]"
      ],
      "metadata": {
        "colab": {
          "base_uri": "https://localhost:8080/"
        },
        "id": "0G0d1J5Iv6fH",
        "outputId": "284a5db0-c884-4e6f-9fcf-433dd8279f5c"
      },
      "execution_count": null,
      "outputs": [
        {
          "output_type": "execute_result",
          "data": {
            "text/plain": [
              "['opened', 'wings', 'flying', 'coming', 'soon']"
            ]
          },
          "metadata": {},
          "execution_count": 46
        }
      ]
    },
    {
      "cell_type": "code",
      "source": [],
      "metadata": {
        "id": "38Yc0QVWv8uq"
      },
      "execution_count": null,
      "outputs": []
    }
  ]
}